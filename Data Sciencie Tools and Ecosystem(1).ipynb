{
 "cells": [
  {
   "cell_type": "markdown",
   "id": "b158a387-864b-469f-b6a5-5f4228fe6e44",
   "metadata": {},
   "source": [
    "# Data Science Tools and Ecosystem"
   ]
  },
  {
   "cell_type": "markdown",
   "id": "38d1f22d-604b-45a6-9bac-8b26e4b4b183",
   "metadata": {},
   "source": [
    "En este cuaderno, se resumen las herramientas y ecosistemas de ciencia de datos."
   ]
  },
  {
   "cell_type": "markdown",
   "id": "5382c4e9-86fc-4b51-9bbc-e80e248feb50",
   "metadata": {},
   "source": [
    "Algunos de los lenguajes populares que utilizan los científicos de datos son:4-dslanguages.png"
   ]
  },
  {
   "cell_type": "markdown",
   "id": "22c2b73c-ca4c-4039-93ee-abacb3e56f2a",
   "metadata": {},
   "source": [
    "1.Phyton\n",
    "2.R\n",
    "3.SQL\n",
    "4.Julia"
   ]
  },
  {
   "cell_type": "markdown",
   "id": "42549a24-f0be-40e3-a593-efae48d8363a",
   "metadata": {},
   "source": [
    "Algunas de las bibliotecas comúnmente utilizadas por los científicos de datos incluyen:\n",
    "1. Panda\n",
    "2. Tensorflow\n",
    "3. numpey\n",
    "4. ciborn"
   ]
  },
  {
   "cell_type": "markdown",
   "id": "846491a6-c5ce-4112-82c1-cbfe3203382b",
   "metadata": {},
   "source": [
    "| Herramientas de ciencia de datos |\n",
    "|---------------------------------|\n",
    "| Jupyter Notebooks               |\n",
    "| RStudio                         |\n",
    "| VS Code (con extensiones Python/R) |\n"
   ]
  },
  {
   "cell_type": "markdown",
   "id": "fe630f36-1cf9-4c41-a96b-805d07a99bfd",
   "metadata": {},
   "source": [
    "### A continuacion,se presentan algunos ejemplos de evaluaciones aritmeticas  en phyton."
   ]
  },
  {
   "cell_type": "code",
   "execution_count": null,
   "id": "e6efa471-1de5-46b6-bb46-c234517b1791",
   "metadata": {},
   "outputs": [],
   "source": [
    "# Esta es una expresión aritmética simple para multiplicar y luego sumar enteros.\n",
    "resultado = (3 * 4) + 5\n",
    "print(resultado)"
   ]
  },
  {
   "cell_type": "code",
   "execution_count": null,
   "id": "47388c4b-623e-4db5-839e-d49f14d16e9b",
   "metadata": {},
   "outputs": [],
   "source": [
    "# Esto convertirá 200 minutos a horas dividiendo por 60\n",
    "200 / 60"
   ]
  },
  {
   "cell_type": "markdown",
   "id": "6701a8fa-e204-441e-b8ec-efd518878dc3",
   "metadata": {},
   "source": [
    "**Objetivos:**"
   ]
  },
  {
   "cell_type": "markdown",
   "id": "e61726b8-d499-45da-99bf-f505b10beb63",
   "metadata": {},
   "source": [
    "    * Listar lenguajes populares para Ciencia de Datos.\n",
    "    1. Phyton\n",
    "    2. R\n",
    "    3. SCALA\n",
    "    4. JULIA\n",
    "    \n",
    "    * Realizar conversiones de unidades básicas (ej. minutos a horas).\n",
    "        \n",
    "    * Introducir el uso de celdas de código y Markdown en un entorno de cuaderno.\n",
    "    \n",
    "    * Comentar y explicar operaciones de código."
   ]
  },
  {
   "cell_type": "markdown",
   "id": "9b760d7f-ffbd-49a7-8af1-22d784b53454",
   "metadata": {},
   "source": [
    "## Autor\n",
    "\n",
    "Antonio Jose Martin Sanchez"
   ]
  }
 ],
 "metadata": {
  "kernelspec": {
   "display_name": "Python 3 (ipykernel)",
   "language": "python",
   "name": "python3"
  },
  "language_info": {
   "codemirror_mode": {
    "name": "ipython",
    "version": 3
   },
   "file_extension": ".py",
   "mimetype": "text/x-python",
   "name": "python",
   "nbconvert_exporter": "python",
   "pygments_lexer": "ipython3",
   "version": "3.12.8"
  }
 },
 "nbformat": 4,
 "nbformat_minor": 5
}
